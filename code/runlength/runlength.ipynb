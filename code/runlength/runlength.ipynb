{
 "cells": [
  {
   "cell_type": "markdown",
   "metadata": {},
   "source": [
    "# Humble run length encoding."
   ]
  },
  {
   "cell_type": "markdown",
   "metadata": {},
   "source": [
    "Say you have a finite set of numbers $A=\\{0,\\dots,n-1\\}$. You wish to store a subset $B\\in A$ in a computer, and you want to be able to quickly check whether $1\\leq i \\leq n$ is in $B$.\n",
    "\n",
    "One option is to store the values of $B$ directly, which would take up $|B|\\lceil\\log_2 n\\rceil$ bits in memory. With this option, checking for membership can be accomplished fairly quickly with binary search in $O(\\log n)$ time.\n",
    "\n",
    "But we could potentially save more space by storing $B$'s index in the power set $P(A)$ instead. That is, you store a binary array of length $n$ where the $i$'th bit is 1 if and only if $i\\in B$. You end up with a string like this.\n",
    "$$00010111000000100$$\n",
    "\n",
    "This takes up exactly $n$ bits, so it starts to be a good idea for memory when $B$ has at least $n/\\lceil\\log_2 n\\rceil$ elements. But the other advantage of this format is that checking for membership takes constant time $O(1)$ since you only need to look at the $i$'th bit. \n",
    "\n",
    "But if we are utterly strapped for memory, it turns out we can compress this sequence even further with no loss, at the low price of $O(\\log n)$ membership lookup. Enter the humble run length encoding.\n",
    "\n",
    "The way run length encoding works is that it rewrites \"runs\" of identical values as just its length. As an example, the earlier sequence would be written as the following, with the first run being 0s. \n",
    "$$(0) 3,1,1,3,6,1,2$$\n",
    "\n",
    "Then reading whether digit $i$ is in the subset i"
   ]
  },
  {
   "cell_type": "markdown",
   "metadata": {},
   "source": [
    "4,15|6-8\n",
    "is "
   ]
  },
  {
   "cell_type": "code",
   "execution_count": 21,
   "metadata": {},
   "outputs": [],
   "source": [
    "import random\n",
    "import numpy as np"
   ]
  },
  {
   "cell_type": "code",
   "execution_count": 35,
   "metadata": {},
   "outputs": [],
   "source": [
    "# Parameters\n",
    "N = 100 # cardinality of A\n",
    "S = 50  # number of strings\n",
    "p = 0.8 # probability of a 0"
   ]
  },
  {
   "cell_type": "code",
   "execution_count": 36,
   "metadata": {},
   "outputs": [
    {
     "data": {
      "text/plain": [
       "array([0, 0, 0, 0, 0, 0, 0, 1, 0, 0, 0, 0, 0, 1, 0, 0, 0, 0, 0, 0, 0, 0,\n",
       "       0, 1, 0, 0, 1, 1, 0, 0, 1, 0, 0, 0, 0, 0, 0, 0, 0, 0, 0, 0, 0, 0,\n",
       "       0, 0, 0, 0, 1, 0, 0, 0, 0, 0, 0, 0, 0, 0, 0, 0, 0, 0, 0, 0, 0, 1,\n",
       "       0, 1, 1, 0, 0, 0, 1, 1, 0, 1, 0, 1, 0, 0, 1, 0, 0, 0, 0, 0, 0, 0,\n",
       "       0, 1, 1, 0, 0, 0, 0, 0, 0, 0, 0, 0])"
      ]
     },
     "execution_count": 36,
     "metadata": {},
     "output_type": "execute_result"
    }
   ],
   "source": [
    "# Some strings\n",
    "np.array(random.choices([0,1], [p, 1-p], k=N))"
   ]
  },
  {
   "cell_type": "markdown",
   "metadata": {},
   "source": [
    "When is a good idea to use run-length encoding?"
   ]
  }
 ],
 "metadata": {
  "kernelspec": {
   "display_name": "Python 3",
   "language": "python",
   "name": "python3"
  },
  "language_info": {
   "codemirror_mode": {
    "name": "ipython",
    "version": 3
   },
   "file_extension": ".py",
   "mimetype": "text/x-python",
   "name": "python",
   "nbconvert_exporter": "python",
   "pygments_lexer": "ipython3",
   "version": "3.12.4"
  }
 },
 "nbformat": 4,
 "nbformat_minor": 2
}
