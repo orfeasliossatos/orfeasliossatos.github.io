{
 "cells": [
  {
   "cell_type": "code",
   "execution_count": 48,
   "metadata": {},
   "outputs": [],
   "source": [
    "import numpy as np\n",
    "import pandas as pd\n",
    "import urllib.request\n",
    "import math\n",
    "import json  "
   ]
  },
  {
   "cell_type": "code",
   "execution_count": 49,
   "metadata": {},
   "outputs": [],
   "source": [
    "# Read the hanzi data\n",
    "df = pd.read_json(\"../data/hanzidictionary.txt\", lines=True, encoding='utf-8')\n"
   ]
  },
  {
   "cell_type": "code",
   "execution_count": 50,
   "metadata": {},
   "outputs": [
    {
     "name": "stdout",
     "output_type": "stream",
     "text": [
      "  character definition pinyin decomposition radical             matches  \\\n",
      "0         ⺀        ice     []             ？       ⺀        [None, None]   \n",
      "1         ⺈        NaN     []             ？       ⺈        [None, None]   \n",
      "2         ⺊        NaN     []           ⿰丨？       ⺊         [[0], None]   \n",
      "3         ⺌        NaN     []             ？       ⺌  [None, None, None]   \n",
      "4         ⺍        NaN     []             ？       ⺍  [None, None, None]   \n",
      "\n",
      "                                           etymology  \n",
      "0                                                NaN  \n",
      "1                                                NaN  \n",
      "2  {'type': 'ideographic', 'hint': 'A crack on an...  \n",
      "3                                                NaN  \n",
      "4                                                NaN  \n"
     ]
    }
   ],
   "source": [
    "# Display the first 5 rows of the DataFrame\n",
    "print(df.head())"
   ]
  },
  {
   "cell_type": "code",
   "execution_count": 51,
   "metadata": {},
   "outputs": [],
   "source": [
    "# Filter out rows where the \"pinyin\" column is an empty list\n",
    "df = df[df['pinyin'].apply(len) > 0]"
   ]
  },
  {
   "cell_type": "code",
   "execution_count": 52,
   "metadata": {},
   "outputs": [],
   "source": [
    "# Drop the matches and etymology columns\n",
    "df = df.drop(['matches', 'etymology', 'decomposition', 'radical'], axis=1)"
   ]
  },
  {
   "cell_type": "code",
   "execution_count": 53,
   "metadata": {},
   "outputs": [
    {
     "data": {
      "text/html": [
       "<div>\n",
       "<style scoped>\n",
       "    .dataframe tbody tr th:only-of-type {\n",
       "        vertical-align: middle;\n",
       "    }\n",
       "\n",
       "    .dataframe tbody tr th {\n",
       "        vertical-align: top;\n",
       "    }\n",
       "\n",
       "    .dataframe thead th {\n",
       "        text-align: right;\n",
       "    }\n",
       "</style>\n",
       "<table border=\"1\" class=\"dataframe\">\n",
       "  <thead>\n",
       "    <tr style=\"text-align: right;\">\n",
       "      <th></th>\n",
       "      <th>character</th>\n",
       "      <th>definition</th>\n",
       "      <th>pinyin</th>\n",
       "    </tr>\n",
       "  </thead>\n",
       "  <tbody>\n",
       "    <tr>\n",
       "      <th>6</th>\n",
       "      <td>⺮</td>\n",
       "      <td>bamboo; flute</td>\n",
       "      <td>[zhú]</td>\n",
       "    </tr>\n",
       "    <tr>\n",
       "      <th>9</th>\n",
       "      <td>㐆</td>\n",
       "      <td>old form of 隱</td>\n",
       "      <td>[yǐn]</td>\n",
       "    </tr>\n",
       "    <tr>\n",
       "      <th>10</th>\n",
       "      <td>㐌</td>\n",
       "      <td>a tribe of savages in South China</td>\n",
       "      <td>[yí]</td>\n",
       "    </tr>\n",
       "    <tr>\n",
       "      <th>11</th>\n",
       "      <td>㐬</td>\n",
       "      <td>pennant; wild, barren, uncultivated</td>\n",
       "      <td>[liú]</td>\n",
       "    </tr>\n",
       "    <tr>\n",
       "      <th>12</th>\n",
       "      <td>㐭</td>\n",
       "      <td>granary; to stockpile, to supply</td>\n",
       "      <td>[lǐn]</td>\n",
       "    </tr>\n",
       "  </tbody>\n",
       "</table>\n",
       "</div>"
      ],
      "text/plain": [
       "   character                           definition pinyin\n",
       "6          ⺮                        bamboo; flute  [zhú]\n",
       "9          㐆                        old form of 隱  [yǐn]\n",
       "10         㐌    a tribe of savages in South China   [yí]\n",
       "11         㐬  pennant; wild, barren, uncultivated  [liú]\n",
       "12         㐭     granary; to stockpile, to supply  [lǐn]"
      ]
     },
     "execution_count": 53,
     "metadata": {},
     "output_type": "execute_result"
    }
   ],
   "source": [
    "df.head()"
   ]
  },
  {
   "cell_type": "code",
   "execution_count": 54,
   "metadata": {},
   "outputs": [],
   "source": [
    "# specify the encoding when opening the file\n",
    "with open('../data/pinyin-lite.json', 'w', encoding='utf-8') as file:\n",
    "    # pass the file object to the to_json() method using the path_or_buf parameter\n",
    "    df.to_json(file, orient='records')"
   ]
  },
  {
   "cell_type": "code",
   "execution_count": 55,
   "metadata": {},
   "outputs": [
    {
     "data": {
      "text/html": [
       "<div>\n",
       "<style scoped>\n",
       "    .dataframe tbody tr th:only-of-type {\n",
       "        vertical-align: middle;\n",
       "    }\n",
       "\n",
       "    .dataframe tbody tr th {\n",
       "        vertical-align: top;\n",
       "    }\n",
       "\n",
       "    .dataframe thead th {\n",
       "        text-align: right;\n",
       "    }\n",
       "</style>\n",
       "<table border=\"1\" class=\"dataframe\">\n",
       "  <thead>\n",
       "    <tr style=\"text-align: right;\">\n",
       "      <th></th>\n",
       "      <th>character</th>\n",
       "      <th>definition</th>\n",
       "      <th>pinyin</th>\n",
       "    </tr>\n",
       "  </thead>\n",
       "  <tbody>\n",
       "    <tr>\n",
       "      <th>123</th>\n",
       "      <td>了</td>\n",
       "      <td>clear; to finish; particle of completed action</td>\n",
       "      <td>[le, liǎo]</td>\n",
       "    </tr>\n",
       "    <tr>\n",
       "      <th>240</th>\n",
       "      <td>伽</td>\n",
       "      <td>temple; used to transliterations</td>\n",
       "      <td>[jiā, gā]</td>\n",
       "    </tr>\n",
       "    <tr>\n",
       "      <th>730</th>\n",
       "      <td>匙</td>\n",
       "      <td>spoon; surname</td>\n",
       "      <td>[chí, shī]</td>\n",
       "    </tr>\n",
       "    <tr>\n",
       "      <th>856</th>\n",
       "      <td>句</td>\n",
       "      <td>sentence, clause, phrase, paragraph; stanza</td>\n",
       "      <td>[jù, gōu]</td>\n",
       "    </tr>\n",
       "    <tr>\n",
       "      <th>945</th>\n",
       "      <td>呢</td>\n",
       "      <td>wool; interrogative or emphatic final particle</td>\n",
       "      <td>[né, ne]</td>\n",
       "    </tr>\n",
       "    <tr>\n",
       "      <th>1767</th>\n",
       "      <td>宀</td>\n",
       "      <td>roof; house</td>\n",
       "      <td>[gài, mián]</td>\n",
       "    </tr>\n",
       "    <tr>\n",
       "      <th>1807</th>\n",
       "      <td>宿</td>\n",
       "      <td>to stop, to rest, to lodge; constellation</td>\n",
       "      <td>[sù, xiù]</td>\n",
       "    </tr>\n",
       "    <tr>\n",
       "      <th>6238</th>\n",
       "      <td>艾</td>\n",
       "      <td>mugwort, Artemisia vulgaris; used in translite...</td>\n",
       "      <td>[ài, yì]</td>\n",
       "    </tr>\n",
       "  </tbody>\n",
       "</table>\n",
       "</div>"
      ],
      "text/plain": [
       "     character                                         definition       pinyin\n",
       "123          了     clear; to finish; particle of completed action   [le, liǎo]\n",
       "240          伽                   temple; used to transliterations    [jiā, gā]\n",
       "730          匙                                     spoon; surname   [chí, shī]\n",
       "856          句        sentence, clause, phrase, paragraph; stanza    [jù, gōu]\n",
       "945          呢     wool; interrogative or emphatic final particle     [né, ne]\n",
       "1767         宀                                        roof; house  [gài, mián]\n",
       "1807         宿          to stop, to rest, to lodge; constellation    [sù, xiù]\n",
       "6238         艾  mugwort, Artemisia vulgaris; used in translite...     [ài, yì]"
      ]
     },
     "execution_count": 55,
     "metadata": {},
     "output_type": "execute_result"
    }
   ],
   "source": [
    "# Find entries with multiple pinyin pronunciations\n",
    "df = pd.read_json(\"../data/pinyin-lite.json\")\n",
    "df[df['pinyin'].apply(lambda x: len(x) > 1)]"
   ]
  },
  {
   "cell_type": "code",
   "execution_count": 56,
   "metadata": {},
   "outputs": [],
   "source": [
    "# Explode the pinyin list\n",
    "exploded_df = df.explode('pinyin')\n",
    "exploded_df = exploded_df.reset_index(drop=True)"
   ]
  },
  {
   "cell_type": "code",
   "execution_count": 57,
   "metadata": {},
   "outputs": [
    {
     "data": {
      "text/html": [
       "<div>\n",
       "<style scoped>\n",
       "    .dataframe tbody tr th:only-of-type {\n",
       "        vertical-align: middle;\n",
       "    }\n",
       "\n",
       "    .dataframe tbody tr th {\n",
       "        vertical-align: top;\n",
       "    }\n",
       "\n",
       "    .dataframe thead th {\n",
       "        text-align: right;\n",
       "    }\n",
       "</style>\n",
       "<table border=\"1\" class=\"dataframe\">\n",
       "  <thead>\n",
       "    <tr style=\"text-align: right;\">\n",
       "      <th></th>\n",
       "      <th>character</th>\n",
       "      <th>definition</th>\n",
       "      <th>pinyin</th>\n",
       "    </tr>\n",
       "  </thead>\n",
       "  <tbody>\n",
       "    <tr>\n",
       "      <th>0</th>\n",
       "      <td>⺮</td>\n",
       "      <td>bamboo; flute</td>\n",
       "      <td>zhú</td>\n",
       "    </tr>\n",
       "    <tr>\n",
       "      <th>1</th>\n",
       "      <td>㐆</td>\n",
       "      <td>old form of 隱</td>\n",
       "      <td>yǐn</td>\n",
       "    </tr>\n",
       "    <tr>\n",
       "      <th>2</th>\n",
       "      <td>㐌</td>\n",
       "      <td>a tribe of savages in South China</td>\n",
       "      <td>yí</td>\n",
       "    </tr>\n",
       "    <tr>\n",
       "      <th>3</th>\n",
       "      <td>㐬</td>\n",
       "      <td>pennant; wild, barren, uncultivated</td>\n",
       "      <td>liú</td>\n",
       "    </tr>\n",
       "    <tr>\n",
       "      <th>4</th>\n",
       "      <td>㐭</td>\n",
       "      <td>granary; to stockpile, to supply</td>\n",
       "      <td>lǐn</td>\n",
       "    </tr>\n",
       "  </tbody>\n",
       "</table>\n",
       "</div>"
      ],
      "text/plain": [
       "  character                           definition pinyin\n",
       "0         ⺮                        bamboo; flute    zhú\n",
       "1         㐆                        old form of 隱    yǐn\n",
       "2         㐌    a tribe of savages in South China     yí\n",
       "3         㐬  pennant; wild, barren, uncultivated    liú\n",
       "4         㐭     granary; to stockpile, to supply    lǐn"
      ]
     },
     "execution_count": 57,
     "metadata": {},
     "output_type": "execute_result"
    }
   ],
   "source": [
    "exploded_df.head()"
   ]
  },
  {
   "cell_type": "code",
   "execution_count": 58,
   "metadata": {},
   "outputs": [],
   "source": [
    "# Group by pinyin pronunciation\n",
    "pinyin_df = exploded_df.groupby(['pinyin'])"
   ]
  },
  {
   "cell_type": "code",
   "execution_count": 59,
   "metadata": {},
   "outputs": [],
   "source": [
    "# Convert groups to dictionaries\n",
    "pinyin_dict = pinyin_df.apply(lambda g: g[['character', 'definition']].apply(tuple, axis=1).tolist()).to_dict()"
   ]
  },
  {
   "cell_type": "code",
   "execution_count": 60,
   "metadata": {},
   "outputs": [
    {
     "name": "stdout",
     "output_type": "stream",
     "text": [
      "Syllables with tone that map to a character 1236\n"
     ]
    }
   ],
   "source": [
    "# Number of syllables that map to a character\n",
    "print(\"Syllables with tone that map to a character\", len(pinyin_dict.keys()))"
   ]
  },
  {
   "cell_type": "code",
   "execution_count": 61,
   "metadata": {},
   "outputs": [],
   "source": [
    "with open('../data/pinyin-groups.json', 'w', encoding='utf-8') as file:\n",
    "    json.dump(pinyin_dict, file)"
   ]
  },
  {
   "cell_type": "code",
   "execution_count": 62,
   "metadata": {},
   "outputs": [],
   "source": [
    "# Now find valid tones for every combination.\n",
    "initials = ['p', 'b', 'm', 'f', 'd', 't', 'n', 'l', 'zh', 'ch', 'sh', 'r', 'z', 'c', 's', 'g', 'k', 'h', 'j', 'x', 'q', 'None']\n",
    "finals = ['a', 'ai', 'an', 'ang', 'ao', 'e', 'ei', 'en', 'eng', 'er', 'i', 'i*', 'ia', 'iao', 'ian', 'iang', 'ie', 'in', 'ing', 'iong', 'iu', 'u', 'ua', 'uai', 'uan', 'uang', 'ueng', 'ui', 'uo', 'un', 'ü', 'üan', 'üe', 'ün', 'o', 'ong', 'ou']\n",
    "vowels = [\"a\", \"e\", \"i\", \"o\", \"u\", \"ü\"]\n",
    "toneDict = {\n",
    "    \"a\": [\"ā\", \"á\", \"ǎ\", \"à\", \"a\"],\n",
    "    \"e\": [\"ē\", \"é\", \"ě\", \"è\", \"e\"],\n",
    "    \"i\": [\"ī\", \"í\", \"ǐ\", \"ì\", \"i\"],\n",
    "    \"o\": [\"ō\", \"ó\", \"ǒ\", \"ò\", \"o\"],\n",
    "    \"u\": [\"ū\", \"ú\", \"ǔ\", \"ù\", \"u\"],\n",
    "    \"ü\": [\"ǖ\", \"ǘ\", \"ǚ\", \"ǜ\", \"ü\"]\n",
    "  }"
   ]
  },
  {
   "cell_type": "code",
   "execution_count": 63,
   "metadata": {},
   "outputs": [],
   "source": [
    "# Algorithm to map initial + final to pinyin syllable\n",
    "def pinyin(initial, final):\n",
    "    \n",
    "    # 1. Initial\n",
    "\n",
    "    # Select y, w, or nothing for Null-initial\n",
    "    valInitial = initial\n",
    "    if (initial == \"None\" and final != \"\"):\n",
    "        if(final[0]=='u'):\n",
    "            valInitial = \"w\"\n",
    "        elif(final[0]=='ü' or final[0]=='ü' or final[0]==\"i\"):\n",
    "            valInitial = \"y\"\n",
    "        else:\n",
    "            valInitial = \"\" \n",
    "    \n",
    "    # 2. Final\n",
    "\n",
    "    # Handle \"w\" and \"i\" contractions and mutations. \n",
    "    valFinal = final\n",
    "    if (initial == \"None\"):\n",
    "        if final in [\"ia\", \"iao\", \"ian\", \"iang\", \"ie\", \"iong\", \"ua\", \"uai\", \"uan\",\"uang\",\"ueng\",\"uo\"]:\n",
    "            valFinal=valFinal[1:]\n",
    "        elif final == \"iu\":\n",
    "            valFinal = \"ou\"\n",
    "        elif final == \"ei\":\n",
    "            valFinal = \"ei\"\n",
    "        elif final == \"un\":\n",
    "            valFinal = \"en\"\n",
    "    \n",
    "    # Clean special short i*\n",
    "    if final == \"i*\": \n",
    "        valFinal = \"i\"\n",
    "    \n",
    "\n",
    "    # If initial is j, x, q, null turn ü into u\n",
    "    if (valFinal[0]==\"ü\"):\n",
    "        if initial in [\"j\", \"x\", \"q\", \"None\"]:\n",
    "            valFinal = \"u\"+valFinal[1:]\n",
    "        \n",
    "\n",
    "    # 3. Tone\n",
    "\n",
    "    # Find letter index of tone\n",
    "    long = len(valFinal) >= 2\n",
    "    twoVowels = 0 if not long else valFinal[0] in vowels and valFinal[1] in vowels\n",
    "    aeo =  valFinal[0] == \"a\" or valFinal[0] == \"e\" or valFinal[0] == \"o\"\n",
    "    accentIndex = 1 if twoVowels and not aeo else 0 \n",
    "    accentIndex += len(valInitial)\n",
    "\n",
    "    return valInitial + valFinal, accentIndex"
   ]
  },
  {
   "cell_type": "code",
   "execution_count": 64,
   "metadata": {},
   "outputs": [],
   "source": [
    "# Get map from initial to final to the set of tones that exist for that syllable\n",
    "\n",
    "# The syllables with tone that exist for at least one Chinese character\n",
    "pinyinKeys = pinyin_dict.keys()\n",
    "\n",
    "# To be filled with key-value pairs - initial : [(final1, [1,4,5]), (final2, [1,2]), ...]\n",
    "realTones = dict([(initial, []) for initial in initials])\n",
    "for initial in initials:\n",
    "    for final in finals: \n",
    "        s, idx = pinyin(initial, final)\n",
    "\n",
    "        # Syllable with tones\n",
    "        modulated = [s[:idx]+v+s[idx+1:] for v in toneDict[s[idx]]]\n",
    "\n",
    "        # The numbers of those that exist in reality\n",
    "        realToneNums = [j+1 for j, m in enumerate(modulated) if m in pinyinKeys]\n",
    "\n",
    "        realTones[initial] += [(final, realToneNums)]\n",
    "\n",
    "    # Convert to inner dictionary with existing syllables\n",
    "    realTones[initial] = dict([(k, list(map(str,v))) for k, v in realTones[initial] if len(v)!=0])\n"
   ]
  },
  {
   "cell_type": "code",
   "execution_count": 65,
   "metadata": {},
   "outputs": [],
   "source": [
    "with open('../data/tone-dict.json', 'w', encoding='utf-8') as file:\n",
    "    json.dump(realTones, file)"
   ]
  },
  {
   "cell_type": "code",
   "execution_count": 66,
   "metadata": {},
   "outputs": [],
   "source": [
    "# Find entries with multiple pinyin pronunciations\n",
    "toneDictDF = pd.read_json(\"../data/tone-dict.json\")"
   ]
  },
  {
   "cell_type": "code",
   "execution_count": 68,
   "metadata": {},
   "outputs": [],
   "source": [
    "# Copy the dictionary\n",
    "toneDictDF_copy = toneDictDF.copy()\n",
    "\n",
    "# Turn NaN elements to empty lists\n",
    "def nanToEmpty(x):\n",
    "    return [] if type(x)==float else x\n",
    "\n",
    "# Append valid tones to pinyin(row, column)\n",
    "for i in toneDictDF.columns:\n",
    "    tones = toneDictDF[i].map(nanToEmpty)\n",
    "    finalsTones = list(zip(tones.index, tones))\n",
    "    toneDictDF_copy[i] = list(map(lambda pair: list(map(lambda n: pinyin(i, pair[0])[0]+n, pair[1])), finalsTones))\n",
    "# Flatten nested list of syllables\n",
    "allSyllables = []\n",
    "for i in toneDictDF_copy.columns:\n",
    "    allSyllables += [item for sublist in list(toneDictDF_copy[i]) for item in sublist]"
   ]
  },
  {
   "cell_type": "code",
   "execution_count": 69,
   "metadata": {},
   "outputs": [],
   "source": [
    "# Write to file\n",
    "with open(\"../data/all-syllables.txt\",\"w\") as file:\n",
    "    for syllable in allSyllables:\n",
    "        file.write(\"%s\\n\" % syllable)"
   ]
  },
  {
   "cell_type": "code",
   "execution_count": 70,
   "metadata": {},
   "outputs": [],
   "source": [
    "# Read from file\n",
    "with open(\"../data/all-syllables.txt\",\"r\") as file:\n",
    "    lines = file.readlines()\n",
    "    allSyllables = [line.strip() for line in lines]"
   ]
  },
  {
   "cell_type": "code",
   "execution_count": 84,
   "metadata": {},
   "outputs": [
    {
     "name": "stdout",
     "output_type": "stream",
     "text": [
      "er3\n",
      "er4\n",
      "weng1\n",
      "weng3\n",
      "weng4\n"
     ]
    }
   ],
   "source": [
    "# Now download .mp3s and save\n",
    "audioURL = \"https://resources.allsetlearning.com/pronwiki/resources/pinyin-audio/\"\n",
    "for syllable in allSyllables[1325:1330]:\n",
    "    if syllable[-1] != \"5\" and not syllable==\"dia3\" and not syllable[1]==\"ü\":\n",
    "        print(syllable)\n",
    "        urllib.request.urlretrieve(audioURL+syllable+\".mp3\", \"../data/audio/\"+syllable+\".mp3\")"
   ]
  },
  {
   "cell_type": "code",
   "execution_count": 108,
   "metadata": {},
   "outputs": [],
   "source": [
    "# Lower the volume of the mp3s\n",
    "from pydub import AudioSegment\n",
    "import os"
   ]
  },
  {
   "cell_type": "code",
   "execution_count": null,
   "metadata": {},
   "outputs": [],
   "source": [
    "# Specify folders where audio is located\n",
    "input_folder = r\"c:/Users/oilio/Documents/Blog/orfeasliossatos.github.io/data/audio\"\n",
    "output_folder = r\"c:/Users/oilio/Documents/Blog/orfeasliossatos.github.io/data/audio-backup\"\n",
    "\n",
    "# Loop through all files finishing with .mp3\n",
    "for filename in os.listdir(input_folder):\n",
    "    if filename.endswith('.mp3'):\n",
    "        # Process the MP3 file\n",
    "        input_path = input_folder + \"/\" + filename\n",
    "        output_path = output_folder + \"/\" + filename\n",
    "        # Load the MP3 file\n",
    "        audio = AudioSegment.from_file(input_path, format='mp3', ffprobe=False)\n",
    "        \n",
    "        # Lower the volume by 10 dB\n",
    "        audio = audio - 10\n",
    "        \n",
    "        # Save the processed MP3 file\n",
    "        audio.export(output_path, format='mp3')"
   ]
  }
 ],
 "metadata": {
  "kernelspec": {
   "display_name": "Python 3",
   "language": "python",
   "name": "python3"
  },
  "language_info": {
   "codemirror_mode": {
    "name": "ipython",
    "version": 3
   },
   "file_extension": ".py",
   "mimetype": "text/x-python",
   "name": "python",
   "nbconvert_exporter": "python",
   "pygments_lexer": "ipython3",
   "version": "3.9.6"
  },
  "orig_nbformat": 4,
  "vscode": {
   "interpreter": {
    "hash": "81794d4967e6c3204c66dcd87b604927b115b27c00565d3d43f05ba2f3a2cb0d"
   }
  }
 },
 "nbformat": 4,
 "nbformat_minor": 2
}
